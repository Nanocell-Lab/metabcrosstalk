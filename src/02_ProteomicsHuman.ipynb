{
 "cells": [
  {
   "cell_type": "markdown",
   "id": "aac11621-433d-4c91-9e3f-7f6445bb1278",
   "metadata": {},
   "source": [
    "## 0. Requirements "
   ]
  },
  {
   "cell_type": "code",
   "execution_count": 3,
   "id": "fc8688a8-1ac3-45a5-aa70-5361616cd1e9",
   "metadata": {
    "collapsed": true,
    "jupyter": {
     "outputs_hidden": true
    },
    "tags": []
   },
   "outputs": [
    {
     "name": "stdout",
     "output_type": "stream",
     "text": [
      "Collecting openpyxl\n",
      "  Using cached openpyxl-3.1.2-py2.py3-none-any.whl (249 kB)\n",
      "Collecting et-xmlfile (from openpyxl)\n",
      "  Using cached et_xmlfile-1.1.0-py3-none-any.whl (4.7 kB)\n",
      "Installing collected packages: et-xmlfile, openpyxl\n",
      "Successfully installed et-xmlfile-1.1.0 openpyxl-3.1.2\n"
     ]
    }
   ],
   "source": [
    "!pip -q install openpyxl"
   ]
  },
  {
   "cell_type": "code",
   "execution_count": 19,
   "id": "4222ed9e-1831-45b1-80c2-2712a470d289",
   "metadata": {},
   "outputs": [],
   "source": [
    "!pip -q install bioinfokit"
   ]
  },
  {
   "cell_type": "code",
   "execution_count": null,
   "id": "0e45c56e-ca7d-4458-9fad-b9962d87e91f",
   "metadata": {
    "tags": []
   },
   "outputs": [],
   "source": [
    "!pip -q install goatools"
   ]
  },
  {
   "cell_type": "markdown",
   "id": "861ed9f2-514d-4956-97d0-c559fc5db685",
   "metadata": {},
   "source": [
    "## 1. Read Human Proteins and Volcano Plot"
   ]
  },
  {
   "cell_type": "code",
   "execution_count": 2,
   "id": "4319bc13-bb46-45f0-a1c9-f120d785694f",
   "metadata": {
    "tags": []
   },
   "outputs": [],
   "source": [
    "import pandas as pd"
   ]
  },
  {
   "cell_type": "code",
   "execution_count": 24,
   "id": "cf776a5c-2c19-4e86-9c08-c42743e36ae7",
   "metadata": {
    "tags": []
   },
   "outputs": [],
   "source": [
    "df = pd.read_excel(\"../data/Human Proteins.xlsx\")"
   ]
  },
  {
   "cell_type": "code",
   "execution_count": 123,
   "id": "8922072f-ab7b-4cea-bda6-26fe6c2b33c2",
   "metadata": {
    "tags": []
   },
   "outputs": [
    {
     "name": "stdout",
     "output_type": "stream",
     "text": [
      "(1382, 13)\n"
     ]
    },
    {
     "data": {
      "text/html": [
       "<div>\n",
       "<style scoped>\n",
       "    .dataframe tbody tr th:only-of-type {\n",
       "        vertical-align: middle;\n",
       "    }\n",
       "\n",
       "    .dataframe tbody tr th {\n",
       "        vertical-align: top;\n",
       "    }\n",
       "\n",
       "    .dataframe thead th {\n",
       "        text-align: right;\n",
       "    }\n",
       "</style>\n",
       "<table border=\"1\" class=\"dataframe\">\n",
       "  <thead>\n",
       "    <tr style=\"text-align: right;\">\n",
       "      <th></th>\n",
       "      <th>Accession Number</th>\n",
       "      <th>GeneNames</th>\n",
       "      <th>Cancer</th>\n",
       "      <th>Cancer.1</th>\n",
       "      <th>Cancer.2</th>\n",
       "      <th>control</th>\n",
       "      <th>control.1</th>\n",
       "      <th>control.2</th>\n",
       "      <th>Average cancer</th>\n",
       "      <th>average control</th>\n",
       "      <th>FC</th>\n",
       "      <th>log2FC</th>\n",
       "      <th>p-value</th>\n",
       "    </tr>\n",
       "  </thead>\n",
       "  <tbody>\n",
       "    <tr>\n",
       "      <th>0</th>\n",
       "      <td>P02768</td>\n",
       "      <td>ALB</td>\n",
       "      <td>1161</td>\n",
       "      <td>1035</td>\n",
       "      <td>971</td>\n",
       "      <td>2897</td>\n",
       "      <td>2911</td>\n",
       "      <td>2997</td>\n",
       "      <td>1055.666667</td>\n",
       "      <td>2935.000000</td>\n",
       "      <td>0.359682</td>\n",
       "      <td>-1.475206</td>\n",
       "      <td>0.000031</td>\n",
       "    </tr>\n",
       "    <tr>\n",
       "      <th>1</th>\n",
       "      <td>P02787</td>\n",
       "      <td>TF</td>\n",
       "      <td>1162</td>\n",
       "      <td>1144</td>\n",
       "      <td>1139</td>\n",
       "      <td>2588</td>\n",
       "      <td>2722</td>\n",
       "      <td>2664</td>\n",
       "      <td>1148.333333</td>\n",
       "      <td>2658.000000</td>\n",
       "      <td>0.432029</td>\n",
       "      <td>-1.210800</td>\n",
       "      <td>0.000232</td>\n",
       "    </tr>\n",
       "    <tr>\n",
       "      <th>2</th>\n",
       "      <td>P00738</td>\n",
       "      <td>HP</td>\n",
       "      <td>479</td>\n",
       "      <td>493</td>\n",
       "      <td>500</td>\n",
       "      <td>948</td>\n",
       "      <td>988</td>\n",
       "      <td>972</td>\n",
       "      <td>490.666667</td>\n",
       "      <td>969.333333</td>\n",
       "      <td>0.506190</td>\n",
       "      <td>-0.982250</td>\n",
       "      <td>0.000020</td>\n",
       "    </tr>\n",
       "  </tbody>\n",
       "</table>\n",
       "</div>"
      ],
      "text/plain": [
       "  Accession Number GeneNames  Cancer  Cancer.1  Cancer.2  control  control.1  \\\n",
       "0           P02768       ALB    1161      1035       971     2897       2911   \n",
       "1           P02787        TF    1162      1144      1139     2588       2722   \n",
       "2           P00738        HP     479       493       500      948        988   \n",
       "\n",
       "   control.2  Average cancer  average control        FC    log2FC   p-value  \n",
       "0       2997     1055.666667      2935.000000  0.359682 -1.475206  0.000031  \n",
       "1       2664     1148.333333      2658.000000  0.432029 -1.210800  0.000232  \n",
       "2        972      490.666667       969.333333  0.506190 -0.982250  0.000020  "
      ]
     },
     "execution_count": 123,
     "metadata": {},
     "output_type": "execute_result"
    }
   ],
   "source": [
    "print(df.shape)\n",
    "df.head(3)"
   ]
  },
  {
   "cell_type": "code",
   "execution_count": 36,
   "id": "1132c205-6fb9-4f86-b2df-2c051223edc0",
   "metadata": {},
   "outputs": [],
   "source": [
    "# Rename columns\n",
    "df.rename(columns = {'Alternate ID':'GeneNames','LOg2FC':'log2FC','pvalue':'p-value'}, inplace = True)\n",
    "# Drop NaN to perform the plots\n",
    "df.dropna(subset = ['log2FC','p-value'], inplace=True)"
   ]
  },
  {
   "cell_type": "code",
   "execution_count": 87,
   "id": "4213b98f-00da-4c87-a62a-f4e2d27542e0",
   "metadata": {},
   "outputs": [
    {
     "data": {
      "image/png": "[encoded data removed]",
      "text/plain": [
       "<Figure size 500x500 with 1 Axes>"
      ]
     },
     "metadata": {},
     "output_type": "display_data"
    }
   ],
   "source": [
    "from bioinfokit import analys, visuz\n",
    "visuz.GeneExpression.volcano(df=df, lfc='log2FC', pv='p-value', lfc_thr=(1.5, 1.5), pv_thr=(0.01, 0.01), \n",
    "    color=(\"#00239CFF\", \"grey\", \"#E10600FF\"), valpha=0.5, plotlegend=True, legendpos='upper right', \n",
    "    legendanchor=(1.46,1), dotsize=30, gstyle=2, sign_line=True,\n",
    "                            geneid=\"GeneNames\",  genenames=({\"ALB\":\"ALB\"}),\n",
    "                        show=True)"
   ]
  },
  {
   "cell_type": "markdown",
   "id": "84684db9-c5d9-477d-8db4-367d98e9174e",
   "metadata": {},
   "source": [
    "# 2. Get the genes groups"
   ]
  },
  {
   "cell_type": "code",
   "execution_count": 88,
   "id": "e35bae56-1f51-4db4-8a06-56fd31444bf3",
   "metadata": {},
   "outputs": [
    {
     "name": "stdout",
     "output_type": "stream",
     "text": [
      "179\n"
     ]
    }
   ],
   "source": [
    "# The top up\n",
    "top_up = df.loc[(df['log2FC'] > 1.5) & (df['p-value'] < 0.01)]\n",
    "print(len(top_up['GeneNames'].unique()))\n",
    "top_up_genes = top_up['GeneNames'].tolist()"
   ]
  },
  {
   "cell_type": "code",
   "execution_count": 139,
   "id": "57c2e622-50a7-46b6-8f4c-1335c1e6c9b0",
   "metadata": {},
   "outputs": [
    {
     "data": {
      "text/plain": [
       "['MYH9',\n",
       " 'KRT14',\n",
       " 'KRT6A',\n",
       " 'KRT6B',\n",
       " 'KRT5',\n",
       " 'KRT6C',\n",
       " 'KRT16',\n",
       " 'KRT17',\n",
       " 'LTF',\n",
       " 'COL12A1']"
      ]
     },
     "execution_count": 139,
     "metadata": {},
     "output_type": "execute_result"
    }
   ],
   "source": [
    "top_up_genes[:10]"
   ]
  },
  {
   "cell_type": "code",
   "execution_count": 140,
   "id": "936bc481-2cba-4f1d-b9f3-fe79b014d976",
   "metadata": {},
   "outputs": [
    {
     "name": "stdout",
     "output_type": "stream",
     "text": [
      "252\n"
     ]
    },
    {
     "data": {
      "text/plain": [
       "['HPX', 'C3', 'MYH2', 'APOB', 'ACTN2', 'A2M', 'MYH1', 'MYH7', 'CFH', 'ENO3']"
      ]
     },
     "execution_count": 140,
     "metadata": {},
     "output_type": "execute_result"
    }
   ],
   "source": [
    "# The top down\n",
    "top_down = df.loc[(df['log2FC'] < -1.5) & (df['p-value'] < 0.01)]\n",
    "print(len(top_down['GeneNames'].unique()))\n",
    "top_down_genes = top_down['GeneNames'].tolist()\n",
    "top_down_genes[:10]"
   ]
  },
  {
   "cell_type": "markdown",
   "id": "a4770515-e2d2-420e-9715-fae3fe0e65c6",
   "metadata": {},
   "source": [
    "# 3. From Kegg"
   ]
  },
  {
   "cell_type": "code",
   "execution_count": 93,
   "id": "b16211e5-b5b7-447f-b1f2-eb165610bcd0",
   "metadata": {},
   "outputs": [],
   "source": [
    "# Show images inline\n",
    "from IPython.display import Image\n",
    "\n",
    "# Standard library packages\n",
    "import io\n",
    "import os\n",
    "\n",
    "# Import Biopython modules to interact with KEGG\n",
    "from Bio import SeqIO\n",
    "from Bio.KEGG import REST\n",
    "from Bio.KEGG.KGML import KGML_parser\n",
    "from Bio.Graphics.KGML_vis import KGMLCanvas\n",
    "\n",
    "# Import Pandas, so we can use dataframes\n",
    "import pandas as pd"
   ]
  },
  {
   "cell_type": "code",
   "execution_count": 91,
   "id": "bd947ef7-e22c-4e19-8740-92c297bf95b2",
   "metadata": {},
   "outputs": [
    {
     "name": "stdout",
     "output_type": "stream",
     "text": [
      "21034\n",
      "hsa00250 Alanine, aspartate and glutamate metabolism - Homo sapiens (human)\n"
     ]
    },
    {
     "data": {
      "text/plain": [
       "1"
      ]
     },
     "execution_count": 91,
     "metadata": {},
     "output_type": "execute_result"
    }
   ],
   "source": [
    "word = 'glutamate'\n",
    "\n",
    "from Bio.KEGG import REST\n",
    "human_pathways = REST.kegg_list(\"pathway\", \"hsa\").read()\n",
    "print(len(human_pathways))\n",
    "\n",
    "# Filter all human pathways for repair pathways\n",
    "word_pathways = []\n",
    "for line in human_pathways.rstrip().split(\"\\n\"):\n",
    "    entry, description = line.split(\"\\t\")\n",
    "    if word in description:\n",
    "        word_pathways.append(entry)\n",
    "        print(entry, description)\n",
    "\n",
    "len(word_pathways)"
   ]
  },
  {
   "cell_type": "code",
   "execution_count": 94,
   "id": "731ce679-005a-4c38-a35f-9795d0b6b10b",
   "metadata": {},
   "outputs": [
    {
     "data": {
      "image/png": "[encoded data removed]",
      "text/plain": [
       "<IPython.core.display.Image object>"
      ]
     },
     "execution_count": 94,
     "metadata": {},
     "output_type": "execute_result"
    }
   ],
   "source": [
    "metabolic_pathway_selected = \"hsa00250\"\n",
    "\n",
    "# Get map of Pathway in Cancer from H. sapiens\n",
    "result = REST.kegg_get(metabolic_pathway_selected, \"image\").read()\n",
    "Image(result)"
   ]
  },
  {
   "cell_type": "code",
   "execution_count": 95,
   "id": "96c26d35-81ca-4611-8621-d122fa4ca557",
   "metadata": {},
   "outputs": [
    {
     "name": "stdout",
     "output_type": "stream",
     "text": [
      "There are 1 cancer pathways and 37 cancer genes. The genes are:\n",
      "GOT1, GOT1L1, GOT2, IL4I1, DDO, ASRGL1, ASNS, NIT2, GPT2, GPT, AGXT, AGXT2, ASS1, ASL, ADSS1, ADSS2, ADSL, NAT8L, RIMKLB, RIMKLA, FOLH1, ASPA, GAD1, GAD2, ABAT, ALDH5A1, GLUD2, GLUD1, ALDH4A1, GLUL, CAD, GLS2, GLS, CPS1, GFPT2, GFPT1, PPAT\n"
     ]
    }
   ],
   "source": [
    "# Get the genes for pathways and add them to a list\n",
    "repair_pathways = [metabolic_pathway_selected]\n",
    "repair_genes = []\n",
    "for pathway in repair_pathways:\n",
    "    pathway_file = REST.kegg_get(pathway).read()  # query and read each pathway\n",
    "\n",
    "    # iterate through each KEGG pathway file, keeping track of which section\n",
    "    # of the file we're in, only read the gene in each pathway\n",
    "    current_section = None\n",
    "    for line in pathway_file.rstrip().split(\"\\n\"):\n",
    "        section = line[:12].strip()  # section names are within 12 columns\n",
    "        if not section == \"\":\n",
    "            current_section = section\n",
    "\n",
    "        if current_section == \"GENE\":\n",
    "            gene_identifiers, gene_description = line[12:].split(\"; \")\n",
    "            gene_id, gene_symbol = gene_identifiers.split()\n",
    "\n",
    "            if not gene_symbol in repair_genes:\n",
    "                repair_genes.append(gene_symbol)\n",
    "\n",
    "print(\n",
    "    \"There are %d cancer pathways and %d cancer genes. The genes are:\"\n",
    "    % (len(repair_pathways), len(repair_genes))\n",
    ")\n",
    "#for gene in repair_genes:\n",
    "#    print(gene)\n",
    "print(\", \".join(repair_genes))"
   ]
  },
  {
   "cell_type": "code",
   "execution_count": 142,
   "id": "2ee515b5-e5c4-4637-b5ac-ebdc4f0d7d7f",
   "metadata": {},
   "outputs": [
    {
     "name": "stdout",
     "output_type": "stream",
     "text": [
      "(82492, 66)\n",
      "Index(['Entry', 'Reviewed', 'Entry Name', 'Protein names', 'Gene Names',\n",
      "       'Organism', 'Length', 'Cofactor', 'Site', 'Active site', 'Absorption',\n",
      "       'EC number', 'Redox potential', 'Rhea ID', 'Activity regulation',\n",
      "       'Binding site', 'Catalytic activity', 'DNA binding', 'pH dependence',\n",
      "       'Pathway', 'Kinetics', 'Function [CC]', 'Temperature dependence',\n",
      "       'Sequence', 'Gene Names (synonym)', 'Features', 'Annotation',\n",
      "       'Interacts with', 'Tissue specificity',\n",
      "       'Gene Ontology (biological process)',\n",
      "       'Gene Ontology (cellular component)', 'Gene Ontology (GO)',\n",
      "       'Gene Ontology (molecular function)', 'Gene Ontology IDs',\n",
      "       'Mutagenesis', 'Pharmaceutical use', 'Toxic dose', 'Transmembrane',\n",
      "       'Topological domain', '3D', 'PubMed ID', 'Motif', 'Protein families',\n",
      "       'BindingDB', 'DrugBank', 'PDB', 'STRING', 'TCDB', 'dbSNP', 'BioMuta',\n",
      "       'DMDM', 'ProteomicsDB', 'MassIVE', 'PRIDE', 'MaxQB', 'GeneID', 'KEGG',\n",
      "       'Ensembl', 'InParanoid', 'OrthoDB', 'eggNOG', 'ExpressionAtlas',\n",
      "       'Genevisible', 'PANTHER', 'PROSITE', 'Pfam'],\n",
      "      dtype='object')\n"
     ]
    },
    {
     "data": {
      "text/html": [
       "<div>\n",
       "<style scoped>\n",
       "    .dataframe tbody tr th:only-of-type {\n",
       "        vertical-align: middle;\n",
       "    }\n",
       "\n",
       "    .dataframe tbody tr th {\n",
       "        vertical-align: top;\n",
       "    }\n",
       "\n",
       "    .dataframe thead th {\n",
       "        text-align: right;\n",
       "    }\n",
       "</style>\n",
       "<table border=\"1\" class=\"dataframe\">\n",
       "  <thead>\n",
       "    <tr style=\"text-align: right;\">\n",
       "      <th></th>\n",
       "      <th>Entry</th>\n",
       "      <th>Reviewed</th>\n",
       "      <th>Entry Name</th>\n",
       "      <th>Protein names</th>\n",
       "      <th>Gene Names</th>\n",
       "      <th>Organism</th>\n",
       "      <th>Length</th>\n",
       "      <th>Cofactor</th>\n",
       "      <th>Site</th>\n",
       "      <th>Active site</th>\n",
       "      <th>...</th>\n",
       "      <th>KEGG</th>\n",
       "      <th>Ensembl</th>\n",
       "      <th>InParanoid</th>\n",
       "      <th>OrthoDB</th>\n",
       "      <th>eggNOG</th>\n",
       "      <th>ExpressionAtlas</th>\n",
       "      <th>Genevisible</th>\n",
       "      <th>PANTHER</th>\n",
       "      <th>PROSITE</th>\n",
       "      <th>Pfam</th>\n",
       "    </tr>\n",
       "  </thead>\n",
       "  <tbody>\n",
       "    <tr>\n",
       "      <th>0</th>\n",
       "      <td>A0A075B6G3</td>\n",
       "      <td>unreviewed</td>\n",
       "      <td>A0A075B6G3_HUMAN</td>\n",
       "      <td>Dystrophin</td>\n",
       "      <td>DMD</td>\n",
       "      <td>Homo sapiens (Human)</td>\n",
       "      <td>3685</td>\n",
       "      <td>NaN</td>\n",
       "      <td>NaN</td>\n",
       "      <td>NaN</td>\n",
       "      <td>...</td>\n",
       "      <td>NaN</td>\n",
       "      <td>ENST00000357033.9;</td>\n",
       "      <td>NaN</td>\n",
       "      <td>2880153at2759;</td>\n",
       "      <td>NaN</td>\n",
       "      <td>A0A075B6G3;</td>\n",
       "      <td>NaN</td>\n",
       "      <td>PTHR12268:SF25;PTHR12268;</td>\n",
       "      <td>PS00019;PS00020;PS50021;PS01159;PS50020;PS0135...</td>\n",
       "      <td>PF00307;PF09068;PF09069;PF00435;PF00397;PF00569;</td>\n",
       "    </tr>\n",
       "    <tr>\n",
       "      <th>1</th>\n",
       "      <td>A0A087WV00</td>\n",
       "      <td>unreviewed</td>\n",
       "      <td>A0A087WV00_HUMAN</td>\n",
       "      <td>Diacylglycerol kinase (DAG kinase) (EC 2.7.1.107)</td>\n",
       "      <td>DGKI</td>\n",
       "      <td>Homo sapiens (Human)</td>\n",
       "      <td>1057</td>\n",
       "      <td>NaN</td>\n",
       "      <td>NaN</td>\n",
       "      <td>NaN</td>\n",
       "      <td>...</td>\n",
       "      <td>NaN</td>\n",
       "      <td>ENST00000614521.2;</td>\n",
       "      <td>NaN</td>\n",
       "      <td>NaN</td>\n",
       "      <td>NaN</td>\n",
       "      <td>A0A087WV00;</td>\n",
       "      <td>NaN</td>\n",
       "      <td>PTHR11255;PTHR11255:SF92;</td>\n",
       "      <td>PS50297;PS50088;PS50146;</td>\n",
       "      <td>PF12796;PF00130;PF00609;PF00781;</td>\n",
       "    </tr>\n",
       "    <tr>\n",
       "      <th>2</th>\n",
       "      <td>A0A087WZT3</td>\n",
       "      <td>unreviewed</td>\n",
       "      <td>A0A087WZT3_HUMAN</td>\n",
       "      <td>BOLA2-SMG1P6 readthrough</td>\n",
       "      <td>BOLA2-SMG1P6</td>\n",
       "      <td>Homo sapiens (Human)</td>\n",
       "      <td>44</td>\n",
       "      <td>NaN</td>\n",
       "      <td>NaN</td>\n",
       "      <td>NaN</td>\n",
       "      <td>...</td>\n",
       "      <td>hsa:552900;hsa:654483;</td>\n",
       "      <td>ENST00000380596.10;</td>\n",
       "      <td>NaN</td>\n",
       "      <td>5531at2759;</td>\n",
       "      <td>NaN</td>\n",
       "      <td>A0A087WZT3;</td>\n",
       "      <td>NaN</td>\n",
       "      <td>NaN</td>\n",
       "      <td>NaN</td>\n",
       "      <td>NaN</td>\n",
       "    </tr>\n",
       "  </tbody>\n",
       "</table>\n",
       "<p>3 rows × 66 columns</p>\n",
       "</div>"
      ],
      "text/plain": [
       "        Entry    Reviewed        Entry Name  \\\n",
       "0  A0A075B6G3  unreviewed  A0A075B6G3_HUMAN   \n",
       "1  A0A087WV00  unreviewed  A0A087WV00_HUMAN   \n",
       "2  A0A087WZT3  unreviewed  A0A087WZT3_HUMAN   \n",
       "\n",
       "                                       Protein names    Gene Names  \\\n",
       "0                                         Dystrophin           DMD   \n",
       "1  Diacylglycerol kinase (DAG kinase) (EC 2.7.1.107)          DGKI   \n",
       "2                           BOLA2-SMG1P6 readthrough  BOLA2-SMG1P6   \n",
       "\n",
       "               Organism  Length Cofactor Site Active site  ...  \\\n",
       "0  Homo sapiens (Human)    3685      NaN  NaN         NaN  ...   \n",
       "1  Homo sapiens (Human)    1057      NaN  NaN         NaN  ...   \n",
       "2  Homo sapiens (Human)      44      NaN  NaN         NaN  ...   \n",
       "\n",
       "                     KEGG              Ensembl InParanoid         OrthoDB  \\\n",
       "0                     NaN   ENST00000357033.9;        NaN  2880153at2759;   \n",
       "1                     NaN   ENST00000614521.2;        NaN             NaN   \n",
       "2  hsa:552900;hsa:654483;  ENST00000380596.10;        NaN     5531at2759;   \n",
       "\n",
       "  eggNOG ExpressionAtlas Genevisible                    PANTHER  \\\n",
       "0    NaN     A0A075B6G3;         NaN  PTHR12268:SF25;PTHR12268;   \n",
       "1    NaN     A0A087WV00;         NaN  PTHR11255;PTHR11255:SF92;   \n",
       "2    NaN     A0A087WZT3;         NaN                        NaN   \n",
       "\n",
       "                                             PROSITE  \\\n",
       "0  PS00019;PS00020;PS50021;PS01159;PS50020;PS0135...   \n",
       "1                           PS50297;PS50088;PS50146;   \n",
       "2                                                NaN   \n",
       "\n",
       "                                               Pfam  \n",
       "0  PF00307;PF09068;PF09069;PF00435;PF00397;PF00569;  \n",
       "1                  PF12796;PF00130;PF00609;PF00781;  \n",
       "2                                               NaN  \n",
       "\n",
       "[3 rows x 66 columns]"
      ]
     },
     "execution_count": 142,
     "metadata": {},
     "output_type": "execute_result"
    }
   ],
   "source": [
    "import pandas as pd\n",
    "human_proteoma = pd.read_csv(\"../data/Uniprot/uniprot-human_proteome-2023.06.24.tsv.gz\",sep='\\t',low_memory=False)\n",
    "print(human_proteoma.shape)\n",
    "print(human_proteoma.columns)\n",
    "human_proteoma.head(3)"
   ]
  },
  {
   "cell_type": "code",
   "execution_count": 144,
   "id": "903266d7-8160-446a-b66d-242e5a3138c9",
   "metadata": {},
   "outputs": [
    {
     "data": {
      "text/html": [
       "<div>\n",
       "<style scoped>\n",
       "    .dataframe tbody tr th:only-of-type {\n",
       "        vertical-align: middle;\n",
       "    }\n",
       "\n",
       "    .dataframe tbody tr th {\n",
       "        vertical-align: top;\n",
       "    }\n",
       "\n",
       "    .dataframe thead th {\n",
       "        text-align: right;\n",
       "    }\n",
       "</style>\n",
       "<table border=\"1\" class=\"dataframe\">\n",
       "  <thead>\n",
       "    <tr style=\"text-align: right;\">\n",
       "      <th></th>\n",
       "      <th>Entry</th>\n",
       "      <th>Reviewed</th>\n",
       "      <th>Entry Name</th>\n",
       "      <th>Protein names</th>\n",
       "      <th>Gene Names</th>\n",
       "      <th>Organism</th>\n",
       "      <th>Length</th>\n",
       "      <th>Cofactor</th>\n",
       "      <th>Site</th>\n",
       "      <th>Active site</th>\n",
       "      <th>...</th>\n",
       "      <th>KEGG</th>\n",
       "      <th>Ensembl</th>\n",
       "      <th>InParanoid</th>\n",
       "      <th>OrthoDB</th>\n",
       "      <th>eggNOG</th>\n",
       "      <th>ExpressionAtlas</th>\n",
       "      <th>Genevisible</th>\n",
       "      <th>PANTHER</th>\n",
       "      <th>PROSITE</th>\n",
       "      <th>Pfam</th>\n",
       "    </tr>\n",
       "  </thead>\n",
       "  <tbody>\n",
       "  </tbody>\n",
       "</table>\n",
       "<p>0 rows × 66 columns</p>\n",
       "</div>"
      ],
      "text/plain": [
       "Empty DataFrame\n",
       "Columns: [Entry, Reviewed, Entry Name, Protein names, Gene Names, Organism, Length, Cofactor, Site, Active site, Absorption, EC number, Redox potential, Rhea ID, Activity regulation, Binding site, Catalytic activity, DNA binding, pH dependence, Pathway, Kinetics, Function [CC], Temperature dependence, Sequence, Gene Names (synonym), Features, Annotation, Interacts with, Tissue specificity, Gene Ontology (biological process), Gene Ontology (cellular component), Gene Ontology (GO), Gene Ontology (molecular function), Gene Ontology IDs, Mutagenesis, Pharmaceutical use, Toxic dose, Transmembrane, Topological domain, 3D, PubMed ID, Motif, Protein families, BindingDB, DrugBank, PDB, STRING, TCDB, dbSNP, BioMuta, DMDM, ProteomicsDB, MassIVE, PRIDE, MaxQB, GeneID, KEGG, Ensembl, InParanoid, OrthoDB, eggNOG, ExpressionAtlas, Genevisible, PANTHER, PROSITE, Pfam]\n",
       "Index: []\n",
       "\n",
       "[0 rows x 66 columns]"
      ]
     },
     "execution_count": 144,
     "metadata": {},
     "output_type": "execute_result"
    }
   ],
   "source": [
    "human_proteoma.loc[human_proteoma['Protein names'].isin(['Glu'])]"
   ]
  },
  {
   "cell_type": "markdown",
   "id": "1fa740cd-a803-4b70-8134-3fe9e34203cc",
   "metadata": {},
   "source": [
    "# 4. Analysis GOEA"
   ]
  },
  {
   "cell_type": "code",
   "execution_count": 100,
   "id": "5de57f56-2c43-4472-b956-6a89b1595062",
   "metadata": {
    "tags": []
   },
   "outputs": [
    {
     "name": "stdout",
     "output_type": "stream",
     "text": [
      "  EXISTS: go-basic.obo\n"
     ]
    }
   ],
   "source": [
    "# Get http://geneontology.org/ontology/go-basic.obo\n",
    "from goatools.base import download_go_basic_obo\n",
    "obo_fname = download_go_basic_obo()"
   ]
  },
  {
   "cell_type": "code",
   "execution_count": 101,
   "id": "f2cdf8ce-2de3-49eb-bf86-e8dab97460b8",
   "metadata": {
    "tags": []
   },
   "outputs": [
    {
     "name": "stdout",
     "output_type": "stream",
     "text": [
      "  EXISTS: gene2go\n"
     ]
    }
   ],
   "source": [
    "# Get ftp://ftp.ncbi.nlm.nih.gov/gene/DATA/gene2go.gz\n",
    "from goatools.base import download_ncbi_associations\n",
    "gene2go = download_ncbi_associations()"
   ]
  },
  {
   "cell_type": "raw",
   "id": "8ff31368-eba4-4b52-83ef-848d079a76f2",
   "metadata": {
    "jupyter": {
     "outputs_hidden": true
    },
    "tags": []
   },
   "source": [
    "!wget http://purl.obolibrary.org/obo/hp.obo"
   ]
  },
  {
   "cell_type": "code",
   "execution_count": 103,
   "id": "50bc70f0-f7f9-4611-b8d3-f3a74cefc294",
   "metadata": {
    "tags": []
   },
   "outputs": [
    {
     "name": "stdout",
     "output_type": "stream",
     "text": [
      "  EXISTS: gene2go\n"
     ]
    }
   ],
   "source": [
    "# Get ftp://ftp.ncbi.nlm.nih.gov/gene/DATA/gene2go.gz\n",
    "from goatools.base import download_ncbi_associations\n",
    "file_gene2go = download_ncbi_associations()"
   ]
  },
  {
   "cell_type": "code",
   "execution_count": 104,
   "id": "f7d330cf-095b-4acf-9578-b13c17cee9e6",
   "metadata": {
    "tags": []
   },
   "outputs": [
    {
     "name": "stdout",
     "output_type": "stream",
     "text": [
      "HMS:0:00:02.153508 343,513 annotations, 20,757 genes, 18,851 GOs, 1 taxids READ: gene2go \n",
      "MF 18,325 annotated human genes\n",
      "CC 19,777 annotated human genes\n",
      "BP 18,661 annotated human genes\n"
     ]
    }
   ],
   "source": [
    "from __future__ import print_function\n",
    "from goatools.anno.genetogo_reader import Gene2GoReader\n",
    "\n",
    "# Read NCBI's gene2go. Store annotations in a list of namedtuples\n",
    "objanno = Gene2GoReader(file_gene2go, taxids=[9606])\n",
    "\n",
    "# Get associations for each branch of the GO DAG (BP, MF, CC)\n",
    "ns2assoc = objanno.get_ns2assc()\n",
    "\n",
    "for nspc, id2gos in ns2assoc.items():\n",
    "    print(\"{NS} {N:,} annotated human genes\".format(NS=nspc, N=len(id2gos)))"
   ]
  },
  {
   "cell_type": "code",
   "execution_count": 105,
   "id": "518ef41b-404d-46d4-8e56-95f27d971afa",
   "metadata": {
    "tags": []
   },
   "outputs": [
    {
     "name": "stdout",
     "output_type": "stream",
     "text": [
      "      20,696 lines READ:  ../data/NCBI_human_gene.tsv\n",
      "      20,677 geneids WROTE: genes_ncbi_9606_proteincoding.py\n"
     ]
    }
   ],
   "source": [
    "from goatools.cli.ncbi_gene_results_to_python import ncbi_tsv_to_py\n",
    "\n",
    "ncbi_tsv = '../data/NCBI_human_gene.tsv'\n",
    "output_py = 'genes_ncbi_9606_proteincoding.py'\n",
    "ncbi_tsv_to_py(ncbi_tsv, output_py)"
   ]
  },
  {
   "cell_type": "code",
   "execution_count": 106,
   "id": "ed95a8a7-8465-4759-9c77-b8ff1392dd43",
   "metadata": {},
   "outputs": [],
   "source": [
    "from genes_ncbi_9606_proteincoding import GENEID2NT as GeneID2nt_human"
   ]
  },
  {
   "cell_type": "code",
   "execution_count": 107,
   "id": "df17bb5f-68c5-48cf-9b0e-14cfd0b84217",
   "metadata": {},
   "outputs": [
    {
     "name": "stdout",
     "output_type": "stream",
     "text": [
      "go-basic.obo: fmt(1.2) rel(2023-07-27) 46,356 Terms\n"
     ]
    }
   ],
   "source": [
    "from goatools.obo_parser import GODag\n",
    "\n",
    "obodag = GODag(\"go-basic.obo\")"
   ]
  },
  {
   "cell_type": "code",
   "execution_count": 108,
   "id": "c1ba15e0-17a2-4b73-a37c-bf8fd6c40e7a",
   "metadata": {},
   "outputs": [
    {
     "name": "stdout",
     "output_type": "stream",
     "text": [
      "\n",
      "Load BP Ontology Enrichment Analysis ...\n",
      " 82% 16,989 of 20,677 population items found in association\n",
      "\n",
      "Load CC Ontology Enrichment Analysis ...\n",
      " 88% 18,125 of 20,677 population items found in association\n",
      "\n",
      "Load MF Ontology Enrichment Analysis ...\n",
      " 85% 17,580 of 20,677 population items found in association\n"
     ]
    }
   ],
   "source": [
    "from goatools.goea.go_enrichment_ns import GOEnrichmentStudyNS\n",
    "\n",
    "goeaobj = GOEnrichmentStudyNS(\n",
    "        GeneID2nt_human, # List of mouse protein-coding genes\n",
    "        ns2assoc, # geneid/GO associations\n",
    "        obodag, # Ontologies\n",
    "        propagate_counts = False,\n",
    "        alpha = 0.05, # default significance cut-off\n",
    "        methods = ['fdr_bh']) # defult multipletest correction method"
   ]
  },
  {
   "cell_type": "code",
   "execution_count": 110,
   "id": "261380ae-2a46-4826-a26b-9bbdf795be84",
   "metadata": {},
   "outputs": [],
   "source": [
    "# GOEA 1: Top up genes"
   ]
  },
  {
   "cell_type": "code",
   "execution_count": 111,
   "id": "2c6600ca-9013-424f-b9b9-224c80af87ed",
   "metadata": {},
   "outputs": [
    {
     "name": "stdout",
     "output_type": "stream",
     "text": [
      "177\n",
      "177\n"
     ]
    }
   ],
   "source": [
    "genes = top_up_genes\n",
    "import pandas as pd\n",
    "dfncbi = pd.read_csv(\"../data/NCBI_human_gene.tsv\", sep='\\t')\n",
    "dfncbi = dfncbi.loc[dfncbi['Symbol'].isin(genes)]\n",
    "\n",
    "genes_symbol = dfncbi['Symbol'].tolist()\n",
    "genes_id = dfncbi['GeneID'].tolist()\n",
    "print (len(genes_symbol))\n",
    "print (len(genes_id))"
   ]
  },
  {
   "cell_type": "code",
   "execution_count": 112,
   "id": "f52cbfd6-af14-48c5-972f-837cc5af8d53",
   "metadata": {},
   "outputs": [
    {
     "name": "stdout",
     "output_type": "stream",
     "text": [
      "\n",
      "Runing BP Ontology Analysis: current study set of 177 IDs.\n",
      " 99%    175 of    177 study items found in association\n",
      "100%    177 of    177 study items found in population(20677)\n",
      "Calculating 12,298 uncorrected p-values using fisher_scipy_stats\n",
      "  12,298 terms are associated with 16,989 of 20,677 population items\n",
      "   1,396 terms are associated with    175 of    177 study items\n",
      "  METHOD fdr_bh:\n",
      "      20 GO terms found significant (< 0.05=alpha) ( 20 enriched +   0 purified): statsmodels fdr_bh\n",
      "      74 study items associated with significant GO IDs (enriched)\n",
      "       0 study items associated with significant GO IDs (purified)\n",
      "\n",
      "Runing CC Ontology Analysis: current study set of 177 IDs.\n",
      "100%    177 of    177 study items found in association\n",
      "100%    177 of    177 study items found in population(20677)\n",
      "Calculating 1,793 uncorrected p-values using fisher_scipy_stats\n",
      "   1,793 terms are associated with 18,125 of 20,677 population items\n",
      "     390 terms are associated with    177 of    177 study items\n",
      "  METHOD fdr_bh:\n",
      "      71 GO terms found significant (< 0.05=alpha) ( 71 enriched +   0 purified): statsmodels fdr_bh\n",
      "     177 study items associated with significant GO IDs (enriched)\n",
      "       0 study items associated with significant GO IDs (purified)\n",
      "\n",
      "Runing MF Ontology Analysis: current study set of 177 IDs.\n",
      " 99%    176 of    177 study items found in association\n",
      "100%    177 of    177 study items found in population(20677)\n",
      "Calculating 4,598 uncorrected p-values using fisher_scipy_stats\n",
      "   4,598 terms are associated with 17,580 of 20,677 population items\n",
      "     393 terms are associated with    176 of    177 study items\n",
      "  METHOD fdr_bh:\n",
      "      20 GO terms found significant (< 0.05=alpha) ( 19 enriched +   1 purified): statsmodels fdr_bh\n",
      "     170 study items associated with significant GO IDs (enriched)\n",
      "       0 study items associated with significant GO IDs (purified)\n"
     ]
    }
   ],
   "source": [
    "# 'p_' means \"pvalue\". 'fdr_bh' is the multipletest method we are currently using.\n",
    "goea_results_all = goeaobj.run_study(genes_id)\n",
    "goea_results_sig = [r for r in goea_results_all if r.p_fdr_bh < 0.05]"
   ]
  },
  {
   "cell_type": "code",
   "execution_count": 113,
   "id": "e3a28bb2-69d4-4fb3-a801-85aa1f78739e",
   "metadata": {},
   "outputs": [
    {
     "name": "stdout",
     "output_type": "stream",
     "text": [
      "111\n"
     ]
    }
   ],
   "source": [
    "from __future__ import print_function\n",
    "go_names = [r.name for r in goea_results_sig]\n",
    "print(len(go_names)) # Includes ONLY signficant results"
   ]
  },
  {
   "cell_type": "code",
   "execution_count": 114,
   "id": "92241589-8863-40fa-83e0-a2b31d5729ff",
   "metadata": {},
   "outputs": [
    {
     "name": "stdout",
     "output_type": "stream",
     "text": [
      "biological_process\n"
     ]
    }
   ],
   "source": [
    "for r in goea_results_sig:\n",
    "    print(r.goterm.namespace)\n",
    "    break"
   ]
  },
  {
   "cell_type": "code",
   "execution_count": 116,
   "id": "a42239e0-94d4-4a9e-8942-36089c54aaeb",
   "metadata": {},
   "outputs": [],
   "source": [
    "import collections as cx\n",
    "word2cnt = cx.Counter([word for name in go_names for word in name.split()])"
   ]
  },
  {
   "cell_type": "code",
   "execution_count": 117,
   "id": "f6ddd071-4298-4214-bc12-a0f8d39fa9cf",
   "metadata": {},
   "outputs": [
    {
     "name": "stdout",
     "output_type": "stream",
     "text": [
      "[('complex', 15), ('membrane', 14), ('protein', 13), ('binding', 11), ('of', 9), ('vesicle', 8), ('granule', 8), ('to', 7), ('endoplasmic', 7), ('transport', 6), ('extracellular', 6), ('reticulum', 5), ('lumen', 5), ('intermediate', 4), ('folding', 4), ('cell', 4), ('Golgi', 4), ('proteasome', 4), ('ATP', 4), ('structural', 4), ('filament', 3), ('organization', 3), ('adhesion', 3), ('regulation', 3), ('RNA', 3), ('matrix', 3), ('mitochondrial', 3), ('secretory', 3), ('proton-transporting', 3), ('constituent', 3), ('activity', 3), ('epidermis', 2), ('vesicle-mediated', 2), ('differentiation', 2), ('positive', 2), ('localization', 2), ('basement', 2), ('response', 2), ('reticulum-Golgi', 2), ('compartment', 2), ('azurophil', 2), ('region', 2), ('ficolin-1-rich', 2), ('regulatory', 2), ('synthase', 2), ('catalytic', 2), ('core', 2), ('cytosolic', 2), ('envelope', 2), ('ribosomal', 2), ('subunit', 2), ('ER', 2), ('cytoplasm', 2), ('phagocytic', 2), ('protein-containing', 2), ('cytoskeleton', 2), ('chaperone', 2), ('chaperone-mediated', 1), ('keratinization', 1), ('development', 1)]\n"
     ]
    }
   ],
   "source": [
    "# Print 10 most common words found in significant GO term names\n",
    "print(word2cnt.most_common(60))"
   ]
  },
  {
   "cell_type": "code",
   "execution_count": 129,
   "id": "d614e50e-1128-49a8-8250-89c782a4bf24",
   "metadata": {},
   "outputs": [],
   "source": [
    "freq_seen = ['mitochondrial','secretory']"
   ]
  },
  {
   "cell_type": "code",
   "execution_count": 130,
   "id": "cb33d6f8-f272-46c4-b262-e5b1522683de",
   "metadata": {},
   "outputs": [],
   "source": [
    "# Collect significant GOs for words in freq_seen (unordered)\n",
    "word2siggos = cx.defaultdict(set)\n",
    "    \n",
    "# Loop through manually curated words of interest\n",
    "for word in freq_seen:\n",
    "    # Check each significant GOEA result for the word of interest\n",
    "    for rec in goea_results_sig:\n",
    "        if word in rec.name:\n",
    "            word2siggos[word].add(rec.GO)\n",
    "# Sort word2gos to have the same order as words in freq_seen\n",
    "word2siggos = cx.OrderedDict([(w, word2siggos[w]) for w in freq_seen])"
   ]
  },
  {
   "cell_type": "code",
   "execution_count": 131,
   "id": "a2fd6231-d10e-4aa4-9b49-c6342d7171db",
   "metadata": {},
   "outputs": [
    {
     "name": "stdout",
     "output_type": "stream",
     "text": [
      "18689\n"
     ]
    }
   ],
   "source": [
    "goid2goobj_all = {nt.GO:nt.goterm for nt in goea_results_all}\n",
    "print(len(goid2goobj_all))"
   ]
  },
  {
   "cell_type": "code",
   "execution_count": 133,
   "id": "bc99e309-a3f3-46af-87b7-f6fd45216229",
   "metadata": {
    "tags": []
   },
   "outputs": [],
   "source": [
    "studygeneid2symbol = dict(zip(genes_id, genes_symbol))"
   ]
  },
  {
   "cell_type": "code",
   "execution_count": 134,
   "id": "fa972a5d-9740-427d-9d9e-23a6bb742fae",
   "metadata": {},
   "outputs": [
    {
     "name": "stdout",
     "output_type": "stream",
     "text": [
      "    3 usr  18 GOs  WROTE: ../run/GOEA/ccoral_word_mitochondrial.svg\n",
      "    3 usr  18 GOs  WROTE: ../run/GOEA/ccoral_mitochondrial.png\n",
      "    3 usr  23 GOs  WROTE: ../run/GOEA/ccoral_word_secretory.svg\n",
      "    3 usr  23 GOs  WROTE: ../run/GOEA/ccoral_secretory.png\n"
     ]
    }
   ],
   "source": [
    "# Plot set of GOs for each frequently seen word\n",
    "from goatools.godag_plot import plot_goid2goobj\n",
    "for word, gos in word2siggos.items():\n",
    "    goid2goobj = {go:goid2goobj_all[go] for go in gos}\n",
    "    plot_goid2goobj(\n",
    "        \"../run/GOEA/ccoral_word_{WORD}.svg\".format(WORD=word),\n",
    "        goid2goobj, # source GOs to plot and their GOTerm object\n",
    "        study_items=15, # Max number of gene symbols to print in each GO term\n",
    "        id2symbol=studygeneid2symbol, # Contains GeneID-to-Symbol from Step 1\n",
    "        goea_results=goea_results_all, # pvals used for GO Term coloring\n",
    "        dpi=150)\n",
    "    \n",
    "    plot_goid2goobj(\n",
    "        \"../run/GOEA/ccoral_{WORD}.png\".format(WORD=word),\n",
    "        goid2goobj, # source GOs to plot and their GOTerm object\n",
    "        study_items=15, # Max number of gene symbols to print in each GO term\n",
    "        id2symbol=studygeneid2symbol, # Contains GeneID-to-Symbol from Step 1\n",
    "        goea_results=goea_results_all, # pvals used for GO Term coloring\n",
    "        dpi=150)"
   ]
  }
 ],
 "metadata": {
  "kernelspec": {
   "display_name": "Python 3 (ipykernel)",
   "language": "python",
   "name": "python3"
  },
  "language_info": {
   "codemirror_mode": {
    "name": "ipython",
    "version": 3
   },
   "file_extension": ".py",
   "mimetype": "text/x-python",
   "name": "python",
   "nbconvert_exporter": "python",
   "pygments_lexer": "ipython3",
   "version": "3.11.3"
  }
 },
 "nbformat": 4,
 "nbformat_minor": 5
}
