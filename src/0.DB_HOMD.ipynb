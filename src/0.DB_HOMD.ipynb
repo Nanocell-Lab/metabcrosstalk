{
 "cells": [
  {
   "cell_type": "markdown",
   "id": "4c317be5-7771-4b53-aa4f-2776f74b4ec0",
   "metadata": {},
   "source": [
    "## Database from https://www.homd.org"
   ]
  },
  {
   "cell_type": "code",
   "execution_count": 1,
   "id": "78aa8a86-2317-42bb-bdf7-cfea28f7f554",
   "metadata": {
    "tags": []
   },
   "outputs": [],
   "source": [
    "import pandas as pd"
   ]
  },
  {
   "cell_type": "code",
   "execution_count": 2,
   "id": "63793b8b-6831-4e2d-a066-2ad73ce447a9",
   "metadata": {
    "tags": []
   },
   "outputs": [],
   "source": [
    "df = pd.read_csv(\"../data/ALL_genomes.tsv\", sep='\\t')"
   ]
  },
  {
   "cell_type": "code",
   "execution_count": 8,
   "id": "dfe75908-53bf-425e-ba53-ea2cd8b51cfd",
   "metadata": {
    "tags": []
   },
   "outputs": [
    {
     "data": {
      "text/html": [
       "<div>\n",
       "<style scoped>\n",
       "    .dataframe tbody tr th:only-of-type {\n",
       "        vertical-align: middle;\n",
       "    }\n",
       "\n",
       "    .dataframe tbody tr th {\n",
       "        vertical-align: top;\n",
       "    }\n",
       "\n",
       "    .dataframe thead th {\n",
       "        text-align: right;\n",
       "    }\n",
       "</style>\n",
       "<table border=\"1\" class=\"dataframe\">\n",
       "  <thead>\n",
       "    <tr style=\"text-align: right;\">\n",
       "      <th></th>\n",
       "      <th>locus_tag</th>\n",
       "      <th>ftype</th>\n",
       "      <th>length_bp</th>\n",
       "      <th>gene</th>\n",
       "      <th>EC_number</th>\n",
       "      <th>COG</th>\n",
       "      <th>product</th>\n",
       "    </tr>\n",
       "  </thead>\n",
       "  <tbody>\n",
       "    <tr>\n",
       "      <th>0</th>\n",
       "      <td>SEQF10000.1_00001</td>\n",
       "      <td>CDS</td>\n",
       "      <td>1314</td>\n",
       "      <td>NaN</td>\n",
       "      <td>NaN</td>\n",
       "      <td>NaN</td>\n",
       "      <td>hypothetical protein</td>\n",
       "    </tr>\n",
       "    <tr>\n",
       "      <th>1</th>\n",
       "      <td>SEQF10000.1_00002</td>\n",
       "      <td>CDS</td>\n",
       "      <td>1560</td>\n",
       "      <td>carA_1</td>\n",
       "      <td>2.8.3.23</td>\n",
       "      <td>COG4670</td>\n",
       "      <td>Caffeate CoA-transferase</td>\n",
       "    </tr>\n",
       "    <tr>\n",
       "      <th>2</th>\n",
       "      <td>SEQF10000.1_00003</td>\n",
       "      <td>CDS</td>\n",
       "      <td>786</td>\n",
       "      <td>NaN</td>\n",
       "      <td>4.2.1.150</td>\n",
       "      <td>COG1024</td>\n",
       "      <td>Crotonyl-CoA hydratase</td>\n",
       "    </tr>\n",
       "    <tr>\n",
       "      <th>3</th>\n",
       "      <td>SEQF10000.1_00004</td>\n",
       "      <td>CDS</td>\n",
       "      <td>456</td>\n",
       "      <td>phaJ_1</td>\n",
       "      <td>4.2.1.119</td>\n",
       "      <td>COG2030</td>\n",
       "      <td>(R)-specific enoyl-CoA hydratase</td>\n",
       "    </tr>\n",
       "    <tr>\n",
       "      <th>4</th>\n",
       "      <td>SEQF10000.1_00005</td>\n",
       "      <td>CDS</td>\n",
       "      <td>1038</td>\n",
       "      <td>carE_1</td>\n",
       "      <td>1.3.1.108</td>\n",
       "      <td>COG2025</td>\n",
       "      <td>Caffeyl-CoA reductase-Etf complex subunit CarE</td>\n",
       "    </tr>\n",
       "    <tr>\n",
       "      <th>5</th>\n",
       "      <td>SEQF10000.1_00006</td>\n",
       "      <td>CDS</td>\n",
       "      <td>801</td>\n",
       "      <td>carD_1</td>\n",
       "      <td>1.3.1.108</td>\n",
       "      <td>COG2086</td>\n",
       "      <td>Caffeyl-CoA reductase-Etf complex subunit CarD</td>\n",
       "    </tr>\n",
       "    <tr>\n",
       "      <th>6</th>\n",
       "      <td>SEQF10000.1_00007</td>\n",
       "      <td>CDS</td>\n",
       "      <td>1137</td>\n",
       "      <td>acrC</td>\n",
       "      <td>1.3.1.95</td>\n",
       "      <td>NaN</td>\n",
       "      <td>Acryloyl-CoA reductase (NADH)</td>\n",
       "    </tr>\n",
       "    <tr>\n",
       "      <th>7</th>\n",
       "      <td>SEQF10000.1_00008</td>\n",
       "      <td>CDS</td>\n",
       "      <td>1209</td>\n",
       "      <td>fldA_1</td>\n",
       "      <td>2.8.3.17</td>\n",
       "      <td>NaN</td>\n",
       "      <td>Cinnamoyl-CoA:phenyllactate CoA-transferase</td>\n",
       "    </tr>\n",
       "    <tr>\n",
       "      <th>8</th>\n",
       "      <td>SEQF10000.1_00009</td>\n",
       "      <td>CDS</td>\n",
       "      <td>1323</td>\n",
       "      <td>NaN</td>\n",
       "      <td>NaN</td>\n",
       "      <td>NaN</td>\n",
       "      <td>hypothetical protein</td>\n",
       "    </tr>\n",
       "    <tr>\n",
       "      <th>9</th>\n",
       "      <td>SEQF10000.1_00010</td>\n",
       "      <td>CDS</td>\n",
       "      <td>789</td>\n",
       "      <td>crt_1</td>\n",
       "      <td>4.2.1.150</td>\n",
       "      <td>COG1024</td>\n",
       "      <td>Short-chain-enoyl-CoA hydratase</td>\n",
       "    </tr>\n",
       "  </tbody>\n",
       "</table>\n",
       "</div>"
      ],
      "text/plain": [
       "           locus_tag ftype length_bp    gene  EC_number      COG  \\\n",
       "0  SEQF10000.1_00001   CDS      1314     NaN        NaN      NaN   \n",
       "1  SEQF10000.1_00002   CDS      1560  carA_1   2.8.3.23  COG4670   \n",
       "2  SEQF10000.1_00003   CDS       786     NaN  4.2.1.150  COG1024   \n",
       "3  SEQF10000.1_00004   CDS       456  phaJ_1  4.2.1.119  COG2030   \n",
       "4  SEQF10000.1_00005   CDS      1038  carE_1  1.3.1.108  COG2025   \n",
       "5  SEQF10000.1_00006   CDS       801  carD_1  1.3.1.108  COG2086   \n",
       "6  SEQF10000.1_00007   CDS      1137    acrC   1.3.1.95      NaN   \n",
       "7  SEQF10000.1_00008   CDS      1209  fldA_1   2.8.3.17      NaN   \n",
       "8  SEQF10000.1_00009   CDS      1323     NaN        NaN      NaN   \n",
       "9  SEQF10000.1_00010   CDS       789   crt_1  4.2.1.150  COG1024   \n",
       "\n",
       "                                          product  \n",
       "0                            hypothetical protein  \n",
       "1                        Caffeate CoA-transferase  \n",
       "2                          Crotonyl-CoA hydratase  \n",
       "3                (R)-specific enoyl-CoA hydratase  \n",
       "4  Caffeyl-CoA reductase-Etf complex subunit CarE  \n",
       "5  Caffeyl-CoA reductase-Etf complex subunit CarD  \n",
       "6                   Acryloyl-CoA reductase (NADH)  \n",
       "7     Cinnamoyl-CoA:phenyllactate CoA-transferase  \n",
       "8                            hypothetical protein  \n",
       "9                 Short-chain-enoyl-CoA hydratase  "
      ]
     },
     "execution_count": 8,
     "metadata": {},
     "output_type": "execute_result"
    }
   ],
   "source": [
    "df.head(10)"
   ]
  },
  {
   "cell_type": "code",
   "execution_count": 9,
   "id": "568e0718-4c48-4abf-87ec-ae8c80739b50",
   "metadata": {
    "tags": []
   },
   "outputs": [
    {
     "data": {
      "text/html": [
       "<div>\n",
       "<style scoped>\n",
       "    .dataframe tbody tr th:only-of-type {\n",
       "        vertical-align: middle;\n",
       "    }\n",
       "\n",
       "    .dataframe tbody tr th {\n",
       "        vertical-align: top;\n",
       "    }\n",
       "\n",
       "    .dataframe thead th {\n",
       "        text-align: right;\n",
       "    }\n",
       "</style>\n",
       "<table border=\"1\" class=\"dataframe\">\n",
       "  <thead>\n",
       "    <tr style=\"text-align: right;\">\n",
       "      <th></th>\n",
       "      <th>locus_tag</th>\n",
       "      <th>ftype</th>\n",
       "      <th>length_bp</th>\n",
       "      <th>gene</th>\n",
       "      <th>EC_number</th>\n",
       "      <th>COG</th>\n",
       "      <th>product</th>\n",
       "    </tr>\n",
       "  </thead>\n",
       "  <tbody>\n",
       "    <tr>\n",
       "      <th>886160</th>\n",
       "      <td>SEQF1160.1_00060</td>\n",
       "      <td>CDS</td>\n",
       "      <td>1176</td>\n",
       "      <td>NaN</td>\n",
       "      <td>NaN</td>\n",
       "      <td>NaN</td>\n",
       "      <td>hypothetical protein</td>\n",
       "    </tr>\n",
       "  </tbody>\n",
       "</table>\n",
       "</div>"
      ],
      "text/plain": [
       "               locus_tag ftype length_bp gene EC_number  COG  \\\n",
       "886160  SEQF1160.1_00060   CDS      1176  NaN       NaN  NaN   \n",
       "\n",
       "                     product  \n",
       "886160  hypothetical protein  "
      ]
     },
     "execution_count": 9,
     "metadata": {},
     "output_type": "execute_result"
    }
   ],
   "source": [
    "df.loc[df[\"locus_tag\"]=='SEQF1160.1_00060']"
   ]
  },
  {
   "cell_type": "code",
   "execution_count": null,
   "id": "519e59b4-0f00-4e3a-b466-16105199b8d9",
   "metadata": {},
   "outputs": [],
   "source": []
  }
 ],
 "metadata": {
  "kernelspec": {
   "display_name": "Python 3 (ipykernel)",
   "language": "python",
   "name": "python3"
  },
  "language_info": {
   "codemirror_mode": {
    "name": "ipython",
    "version": 3
   },
   "file_extension": ".py",
   "mimetype": "text/x-python",
   "name": "python",
   "nbconvert_exporter": "python",
   "pygments_lexer": "ipython3",
   "version": "3.11.3"
  }
 },
 "nbformat": 4,
 "nbformat_minor": 5
}
